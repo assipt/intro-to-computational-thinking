{
 "cells": [
  {
   "cell_type": "markdown",
   "id": "903443e3",
   "metadata": {
    "slideshow": {
     "slide_type": "slide"
    }
   },
   "source": [
    "# Introduction to Computational Thinking\n",
    "\n",
    "Introdução ao raciocínio computacional (???)\n",
    "\n",
    "## Tratar de maneira unificada\n",
    "\n",
    " * Computação \n",
    " * Matemática\n",
    " * Aplicação"
   ]
  },
  {
   "cell_type": "markdown",
   "id": "d65f4aca",
   "metadata": {
    "slideshow": {
     "slide_type": "slide"
    }
   },
   "source": [
    "# Motivação\n",
    "\n",
    "## Está se falando muito:\n",
    "\n",
    " * Indústria 4.0\n",
    " * IOT\n",
    " * Machine Learning\n",
    "\n",
    "## E o IPT, Como entra nessa?\n"
   ]
  },
  {
   "cell_type": "markdown",
   "id": "3c65d02e",
   "metadata": {
    "slideshow": {
     "slide_type": "slide"
    }
   },
   "source": [
    "# IPT\n",
    "\n",
    " * Seria difícil dizer o que o IPT faz\n",
    " * Pesquisa tecnológica (qual a diferença para pesquisa?)\n",
    " * Extremamente heterogêneo\n",
    "   - Sempre descubro alguma coisa nova que o IPT faz\n",
    "   - Coisas \"modernas\" e coisas tradicionais\n",
    "       * Bionano e Tecnologias digitais\n",
    "       * Metrologia\n",
    "       * Experimentos de quase 100 anos!\n",
    " * Multidisciplinar \n",
    "     - Complexo\n",
    "     - Todo problema é fundamentalmente multidisciplinar\n",
    "     - Infelizmente existe pouco entrosamento entre diferentes grupos do IPT\n"
   ]
  },
  {
   "cell_type": "markdown",
   "id": "a24bb440",
   "metadata": {
    "slideshow": {
     "slide_type": "slide"
    }
   },
   "source": [
    "# O que une tudo isso (na minha opinião)?\n",
    "\n",
    " * Computação\n",
    " * Matemática \n",
    " * Aplicação\n",
    "\n",
    "O MIT criou um curso que tenta unificar estes três aspectos acima. Vamos tentar trazer isso para o IPT.\n",
    "\n",
    "\n",
    " "
   ]
  },
  {
   "cell_type": "markdown",
   "id": "6c3cdf78",
   "metadata": {
    "slideshow": {
     "slide_type": "slide"
    }
   },
   "source": [
    "# O Curso do MIT\n",
    "\n",
    " * Página web <https://computationalthinking.mit.edu/Spring21/>\n",
    " * Repositório github <https://github.com/mitmath/18S191>\n",
    " \n",
    "## 3 Módulos\n",
    " 1. Imagen, transformações e abstrações - abstrações e transformações\n",
    " 2. Ciências sociais e ciência de dados - aleatoriedade\n",
    " 3. Ciência do clima - sistemas dinâmicos\n",
    "\n",
    " * Curso usa a linguagem de programação Julia\n",
    " * Ambiente Pluto - Notebook reativo\n",
    " \n",
    "No IPT, vamos começar com o primeiro módulo apenas. Um experimento."
   ]
  },
  {
   "cell_type": "markdown",
   "id": "f83bd881",
   "metadata": {
    "slideshow": {
     "slide_type": "slide"
    }
   },
   "source": [
    "# Linguagem de Programação Julia\n",
    "\n",
    " * Se tornou pública em 2012. *10 anos!*\n",
    " * Página web: <https://julialang.org/>\n",
    " * Muito expressiva\n",
    " * Ótimo desempenho\n",
    "     - Linguagem dinâmica\n",
    "     - Compilada\n",
    "     - Desempenho de C/C++/Fortran\n",
    " "
   ]
  },
  {
   "cell_type": "markdown",
   "id": "cc62f1f0",
   "metadata": {
    "slideshow": {
     "slide_type": "slide"
    }
   },
   "source": [
    " # Porque não Python (ou outra coisa)?\n",
    "   - O curso do MIT é em Julia\n",
    "   - Eu gosto (sou folgado mesmo)\n",
    "   - A linguagem é realmente legal\n",
    "   - Ecossistema crescendo rapidamente"
   ]
  },
  {
   "cell_type": "markdown",
   "id": "a45b445d",
   "metadata": {
    "slideshow": {
     "slide_type": "slide"
    }
   },
   "source": [
    "# A estrutura do curso\n",
    "\n",
    " * Vamos começar com duas aulas de programação em Julia\n",
    "     - É pouco, mas a idéia aqui é aprender fazendo ao longo do curso\n",
    "     - Instalação\n",
    "     - Fundamentos\n",
    "         * Variáveis, números, strings e tipos\n",
    "         * Funções\n",
    "         * Controle de fluxo\n",
    "         * Métodos\n",
    "         * Pacotes\n",
    "         * Notebook Pluto\n",
    "         * Mostrar gráficos e imagens\n",
    "     - Módulo 1\n",
    "     \n",
    "\n"
   ]
  },
  {
   "cell_type": "markdown",
   "id": "8aee3e5e",
   "metadata": {
    "slideshow": {
     "slide_type": "slide"
    }
   },
   "source": [
    "# Recursos e ajuda\n",
    "\n",
    " * Documentação oficial <https://docs.julialang.org/en/v1/>\n",
    " * Lista de discussão: <https://discourse.julialang.org/> \n",
    "     - Muito boa\n",
    "     - Recomendo participar\n",
    " * Wikibook <https://en.wikibooks.org/wiki/Introducing_Julia>\n",
    " * Livro sobre data science em Julia <https://juliadatascience.io/>\n",
    " * Curso tosco que eu dei para o pessoal do túnel de vento: <http://julia.vento.eng.br/>\n",
    " "
   ]
  },
  {
   "cell_type": "markdown",
   "id": "96181008",
   "metadata": {
    "slideshow": {
     "slide_type": "slide"
    }
   },
   "source": [
    "# Instalação no Windows\n",
    "\n",
    " * Página de download <https://julialang.org/downloads/>\n",
    "     - Link direto <https://julialang-s3.julialang.org/bin/winnt/x64/1.7/julia-1.7.3-win64.exe>\n",
    "     - Precisa do Windows 7 pelo menos.\n",
    "        * No windows 7 instalar um negócio chamado Windows management framework <https://www.microsoft.com/en-us/download/details.aspx?id=54616>. Instale o arquivo maior (Win7AndW2K8R2-KB3191566-x64.zip)\n",
    "        * Python - Só até versão 3.8.x! (se for usar o jupyter)\n",
    " * Fonte JuliaMono <https://github.com/cormullion/juliamono>\n",
    " * Terminal: \n",
    "   - Git Bash <https://gitforwindows.org/>  (mintty)\n",
    "   - ConEmu <https://conemu.github.io/>\n",
    "   - MSY2 - ambiente \"linux\" <https://www.msys2.org/> (mintty)\n",
    "   - WSL - Windows subsystem for linux\n",
    " \n",
    " \n",
    " "
   ]
  },
  {
   "cell_type": "markdown",
   "id": "b95f08c4",
   "metadata": {
    "slideshow": {
     "slide_type": "slide"
    }
   },
   "source": [
    "# Linux\n",
    "\n",
    " * Só baixar e descompactar. Talvez fazer um link simbólico\n",
    " \n",
    "# Mac\n",
    " \n",
    " * Não faço a menor idéia. Não deve ser problema"
   ]
  },
  {
   "cell_type": "markdown",
   "id": "5672ecf1",
   "metadata": {
    "slideshow": {
     "slide_type": "slide"
    }
   },
   "source": [
    "# Editores\n",
    "\n",
    " * **Visual Studio Code** <https://www.julia-vscode.org/>\n",
    "     - Sintaxe\n",
    "     - Debugger\n",
    "     - Terminal\n",
    "     - Gráficos/etc\n",
    " * Emacs <https://github.com/JuliaEditorSupport/julia-emacs>\n",
    " * Outros editores <https://github.com/JuliaEditorSupport>\n",
    " * Atom <https://junolab.org/> - não há mais desenvolvimento ativo."
   ]
  },
  {
   "cell_type": "markdown",
   "id": "f63bffeb",
   "metadata": {
    "slideshow": {
     "slide_type": "slide"
    }
   },
   "source": [
    "# Notebooks\n",
    "\n",
    "## Jupyter\n",
    " * Instale Anaconda <https://www.anaconda.com/products/distribution>\n",
    " * Abra o terminal Julia\n",
    " ```julia-repl\n",
    " julia> import Pkg; Pkg.add(\"IJulia\")\n",
    " ```\n",
    " * Se for usar apenas Julia, \n",
    " ```julia-repl\n",
    " julia> notebook()\n",
    "install Jupyter via Conda, y/n? [y]: \n",
    "```\n",
    "Aí vai instalar uma versão do Jupyter para você. Cuidado com Windows 7"
   ]
  },
  {
   "cell_type": "markdown",
   "id": "779d6c23",
   "metadata": {
    "slideshow": {
     "slide_type": "slide"
    }
   },
   "source": [
    "## Pluto\n",
    "\n",
    "```julia-repl\n",
    "julia> import Pkg; Pkg.add(\"Pluto\")\n",
    "\n",
    "julia> import Pluto; Pluto.run()\n",
    "```"
   ]
  }
 ],
 "metadata": {
  "celltoolbar": "Slideshow",
  "kernelspec": {
   "display_name": "Julia 1.7.3",
   "language": "julia",
   "name": "julia-1.7"
  },
  "language_info": {
   "file_extension": ".jl",
   "mimetype": "application/julia",
   "name": "julia",
   "version": "1.7.3"
  }
 },
 "nbformat": 4,
 "nbformat_minor": 5
}
